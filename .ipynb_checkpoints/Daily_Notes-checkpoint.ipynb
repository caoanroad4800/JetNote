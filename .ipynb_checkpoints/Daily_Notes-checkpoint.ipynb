{
 "cells": [
  {
   "cell_type": "markdown",
   "metadata": {},
   "source": [
    "# Jetson Nano日记\n",
    "## 20200823T23:00\n",
    "\n",
    "买了个Jetson Nano的AI小板子，打算玩一玩智能图像识别，免得18年学的那些deeplearning的东东都忘了。为了让Jetson Nano能够动起来，又买了个Jetbot智能小车。\n",
    "\n",
    "在天猫上搜了一圈，最后选定了亚博智能(YAHBOOM)的这款，三自由度带升降（含主板），[链接在这里](https://detail.tmall.com/item.htm?spm=a1z10.5-b-s.w5001-22651484579.3.10c86a8316it8K&id=607946624469&rn=d7e5113d984e570bca30e0948552d9d9&abbucket=10&scene=taobao_shop)\n",
    "\n",
    "主要考虑如下\n",
    "- 我不懂硬件，不算最狂热的build-from-scratch，只能买来半成品的各种零配件回来组装。（各种论坛里给了很多3D打印的文件，可以下载下来找个3D打印店给打印出来；但各种电机、轴承之类的就不是我熟悉的了，也不是这第一轮工作的重点。等这个小车跑起来了之后，可以考虑第二轮再从头开始玩个硬件）\n",
    "- 有几种类型的平台可供选择，如树莓派系列的海量小车等。选了jetbot是因为\n",
    "    - 看起来它的实时计算性能还算强大，比树莓派强\n",
    "    - 上次树莓派玩hi了之后，不小心在ARM架构上编译安装X86的代码，然后就没有然后了...\n",
    "    - 总想玩点新鲜的\n",
    "\n",
    "商家发货很快，经过3天的等待，今天包裹送到了，如下\n",
    "![test](./Figures/微信图片_20200823142908.jpg)\n",
    "\n",
    "Jetson Nano的板子比我想象的要小一些——Hi Nano，初次见面，请多关照\n",
    "![Jetson Nano](./Figures/微信图片_20200823142917.jpg)\n",
    "\n",
    "开工。基本思路是按照如下顺序来搞（当然是个high level的设想）：\n",
    "1. 先把Jetson Nano平台搞起来，搞到八九不离十之后\n",
    "2. 组装Jetbot硬件，把小车跑起来\n",
    "3. 看看Jetson Nano还能玩些别的什么\n",
    "\n",
    "今天进度及发现的问题\n",
    "\n",
    "1. 下载速度太慢！亚博智能给的是个百度网盘的下载链接，麻烦多多。一是百度网盘只支持windows，二是百度网盘限速限得厉害，非会员只给大概100k/s，这些加起来近百G的文件要下载到几十个小时。我现在只能百无聊赖的蹲在windows系统里边下载边等。————我跟客服留言了，建议给个bt种子啥的，这样会方便很多。\n",
    "2. 零配件缺乏。拿到板子我才发现缺了几样很重要的东西：\n",
    "    - Micro-USB数据线。Jetson Nano有两种充电方式，1是利用Micro-USB线充电，2是DC直筒型供电插口。这两样东西我都没有。解决方案：京东上下单1条绿联的Micro-USB线15块（邮费8块），明天上午就可以送到；回亚博智能淘宝店里下单一个Jetson Nano 5V4A的DC电源，22.5块\n",
    "![电源](./Figures/微信图片_20200823145722.jpg)\n",
    "    - 无线网卡模块。Jetson Nano默认没有无线网卡功能，只提供一个水晶头插口，在家里干活实在是不方便——要撅到路由器那边插上网线才能用，别提多麻烦了。解决方案：回亚博智能淘宝店里下单一个无线网卡模块，89块\n",
    "![网卡](./Figures/微信图片_20200823145728.jpg)    \n",
    "    - 机箱。总这么裸露着还是很危险，随便滴上去几滴水就糟了。于是再回亚博智能淘宝店，下单1个带风扇的金属外壳，支持上述无线网卡天线的那种，79块\n",
    "![机箱](./Figures/微信图片_20200823145734.jpg)\n",
    "    \n",
    "    明天上午数据线来了之后，先临时撅到路由器旁边插上有线连接使用，期待着2天之后无线网卡和机箱到货，再作进一步改装。\n",
    "3. 刷ROM。NVIDIA官网提供了详细的Jetson Nano Development Kit安装设置教程，首先是[刷SD card](https://developer.nvidia.com/embedded/learn/get-started-jetson-nano-devkit#write)\n",
    "    - 下载Image，很大，6.5G，耐心下吧。[地址在这里](https://developer.nvidia.com/jetson-nano-sd-card-image)\n",
    "    - 刷Image建议用[Etcher](https://www.balena.io/etcher/)，linux/mac os x/win什么平台都支持，我用了它好多年了\n",
    "    - 发来的快递中包括1张64G SanDisk的存储卡，1个读卡器，直接插上，用Etcher烧录吧\n",
    "![Etcher](./Figures/微信图片_20200823145411.png)\n",
    "    - 烧录大概用了15-20分钟，然后根据Nvidia官网的介绍，把卡插到主板上去\n",
    "![Card](./Figures/微信图片_20200823150211.png)\n",
    "4. 准备好了额外的1根HDMI线，1个蓝牙键盘（原本是给ipad pro准备的），1个鼠标\n",
    "5. 现在没别的能做的了。只能等待明天京东的Micro-USB数据线到货，给Jetson Nano主板供电，先把系统run起来再说。"
   ]
  }
 ],
 "metadata": {
  "kernelspec": {
   "display_name": "Python 3",
   "language": "python",
   "name": "python3"
  },
  "language_info": {
   "codemirror_mode": {
    "name": "ipython",
    "version": 3
   },
   "file_extension": ".py",
   "mimetype": "text/x-python",
   "name": "python",
   "nbconvert_exporter": "python",
   "pygments_lexer": "ipython3",
   "version": "3.7.0"
  }
 },
 "nbformat": 4,
 "nbformat_minor": 2
}
